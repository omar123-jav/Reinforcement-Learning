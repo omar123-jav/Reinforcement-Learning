{
 "cells": [
  {
   "cell_type": "code",
   "execution_count": 1,
   "metadata": {
    "collapsed": true
   },
   "outputs": [],
   "source": [
    "import numpy as np\n",
    "import matplotlib.pyplot as plt\n",
    "import sklearn as scp\n",
    "import tensorflow as tf\n",
    "import random\n"
   ]
  },
  {
   "cell_type": "code",
   "execution_count": 2,
   "outputs": [],
   "source": [
    "def gradient_descent(parameters,label,weights,bias,alpha,iterations,size):\n",
    "    predictions=np.zeros(shape=(size,1))\n",
    "    for i in iterations:\n",
    "       for j in size:\n",
    "           parameter=parameters[j]\n",
    "           predict=(np.transpose(weights)*parameter)+bias\n",
    "           predictions[j]=predict\n",
    "       biasg=0\n",
    "       weightg=0\n",
    "       for j in size:\n",
    "          biasg+=label[j]-(predictions[j]+bias)\n",
    "          weightg+=predictions[j]*(label[j]-(predictions[j]+bias))\n",
    "\n",
    "       biasg=(-2/size)*(biasg)\n",
    "       weightg=(-2/size)*(weightg)\n",
    "       weights-=alpha*weightg\n",
    "       bias-=alpha*biasg\n",
    "\n"
   ],
   "metadata": {
    "collapsed": false,
    "pycharm": {
     "name": "#%%\n"
    }
   }
  },
  {
   "cell_type": "code",
   "execution_count": 3,
   "outputs": [],
   "source": [
    "def gradientDescent(x,y,w,b,alpha,N):\n",
    "\n",
    "    dJdw = 0\n",
    "    dJdb = 0\n",
    "\n",
    "    for xi,yi in zip(x,y):\n",
    "\n",
    "        dJdw += -2*xi*(yi - (w*xi + b))\n",
    "        dJdb += -2*(yi - (w*xi + b))\n",
    "\n",
    "    w -= alpha*dJdw/N\n",
    "    b -= alpha*dJdb/N\n",
    "\n",
    "    return w, b"
   ],
   "metadata": {
    "collapsed": false,
    "pycharm": {
     "name": "#%%\n"
    }
   }
  },
  {
   "cell_type": "code",
   "execution_count": 13,
   "outputs": [],
   "source": [
    "\n",
    "def predict(x,y,alpha,N,epochs):\n",
    "\n",
    "     w = random.random()\n",
    "     b = random.random()\n",
    "\n",
    "     for i in range(epochs):\n",
    "\n",
    "        w,b = gradientDescent(x, y,w,b,alpha,N)\n",
    "        yhat = w*x +b\n",
    "        J = np.divide(np.sum((y-yhat)**2, axis=0), N)\n",
    "        print(f'{epochs} loss is {J}, parameters w:{w}, b:{b}')\n",
    "     return w,b"
   ],
   "metadata": {
    "collapsed": false,
    "pycharm": {
     "name": "#%%\n"
    }
   }
  },
  {
   "cell_type": "code",
   "execution_count": 5,
   "outputs": [],
   "source": [
    "def LSM(x,y,N):\n",
    "\n",
    "    sum_xy = 0\n",
    "    sum_x = 0\n",
    "    sum_y = 0\n",
    "    sum_x2 = 0\n",
    "\n",
    "    for xi,yi in zip(x,y):\n",
    "\n",
    "        sum_xy += xi*yi\n",
    "        sum_x += xi\n",
    "        sum_y += yi\n",
    "        sum_x2 += xi**2\n",
    "\n",
    "    m = (N*sum_xy - sum_x*sum_y)/(N*sum_x2 - sum_x**2)\n",
    "    b = (sum_y - m*sum_x)/N\n",
    "\n",
    "    return m, b"
   ],
   "metadata": {
    "collapsed": false,
    "pycharm": {
     "name": "#%%\n"
    }
   }
  },
  {
   "cell_type": "code",
   "execution_count": 103,
   "outputs": [
    {
     "name": "stdout",
     "output_type": "stream",
     "text": [
      "[[-0.83660155]\n",
      " [-1.58395787]\n",
      " [-0.60930858]\n",
      " [-0.64904992]\n",
      " [ 1.70969929]\n",
      " [ 0.29753942]\n",
      " [-0.2538011 ]\n",
      " [-0.17516884]\n",
      " [ 1.23223754]\n",
      " [ 1.33986413]]\n",
      "[[-1.62946423]\n",
      " [-2.38705524]\n",
      " [-1.39905859]\n",
      " [-1.43934417]\n",
      " [ 0.95170701]\n",
      " [-0.47979173]\n",
      " [-1.0386826 ]\n",
      " [-0.95897351]\n",
      " [ 0.46770664]\n",
      " [ 0.57680713]]\n"
     ]
    }
   ],
   "source": [
    "w = random.random()\n",
    "b = random.random()\n",
    "alpha = 0.1\n",
    "\n",
    "x = np.random.randn(10,1)\n",
    "print(x)\n",
    "y = np.random.randn()*x+np.random.randn()\n",
    "print(y)\n",
    "N = x.shape[0]\n",
    "epochs = 100\n",
    "alpha=0.01"
   ],
   "metadata": {
    "collapsed": false,
    "pycharm": {
     "name": "#%%\n"
    }
   }
  },
  {
   "cell_type": "code",
   "execution_count": 104,
   "outputs": [
    {
     "name": "stdout",
     "output_type": "stream",
     "text": [
      "100 loss is [2.027253], parameters w:[0.07063856], b:[0.31299371]\n",
      "100 loss is [1.94923627], parameters w:[0.08926313], b:[0.29199493]\n",
      "100 loss is [1.87422258], parameters w:[0.10751929], b:[0.27139857]\n",
      "100 loss is [1.80209633], parameters w:[0.12541436], b:[0.25119691]\n",
      "100 loss is [1.73274635], parameters w:[0.14295548], b:[0.23138242]\n",
      "100 loss is [1.66606573], parameters w:[0.16014967], b:[0.21194768]\n",
      "100 loss is [1.60195172], parameters w:[0.1770038], b:[0.19288543]\n",
      "100 loss is [1.54030549], parameters w:[0.1935246], b:[0.17418852]\n",
      "100 loss is [1.48103204], parameters w:[0.20971868], b:[0.15584998]\n",
      "100 loss is [1.42404002], parameters w:[0.22559252], b:[0.13786293]\n",
      "100 loss is [1.36924159], parameters w:[0.24115245], b:[0.12022066]\n",
      "100 loss is [1.31655231], parameters w:[0.2564047], b:[0.10291657]\n",
      "100 loss is [1.26589097], parameters w:[0.27135535], b:[0.08594417]\n",
      "100 loss is [1.21717951], parameters w:[0.28601038], b:[0.06929713]\n",
      "100 loss is [1.17034286], parameters w:[0.30037565], b:[0.05296921]\n",
      "100 loss is [1.12530884], parameters w:[0.3144569], b:[0.0369543]\n",
      "100 loss is [1.08200806], parameters w:[0.32825974], b:[0.02124641]\n",
      "100 loss is [1.0403738], parameters w:[0.3417897], b:[0.00583967]\n",
      "100 loss is [1.00034191], parameters w:[0.35505217], b:[-0.0092717]\n",
      "100 loss is [0.96185069], parameters w:[0.36805246], b:[-0.02409335]\n",
      "100 loss is [0.92484084], parameters w:[0.38079575], b:[-0.03863082]\n",
      "100 loss is [0.88925534], parameters w:[0.39328714], b:[-0.05288955]\n",
      "100 loss is [0.85503936], parameters w:[0.40553161], b:[-0.06687489]\n",
      "100 loss is [0.82214017], parameters w:[0.41753405], b:[-0.08059207]\n",
      "100 loss is [0.7905071], parameters w:[0.42929925], b:[-0.09404622]\n",
      "100 loss is [0.7600914], parameters w:[0.44083191], b:[-0.10724239]\n",
      "100 loss is [0.73084621], parameters w:[0.45213664], b:[-0.1201855]\n",
      "100 loss is [0.70272649], parameters w:[0.46321794], b:[-0.13288041]\n",
      "100 loss is [0.6756889], parameters w:[0.47408024], b:[-0.14533187]\n",
      "100 loss is [0.64969179], parameters w:[0.48472787], b:[-0.15754454]\n",
      "100 loss is [0.62469512], parameters w:[0.49516508], b:[-0.169523]\n",
      "100 loss is [0.60066038], parameters w:[0.50539605], b:[-0.18127174]\n",
      "100 loss is [0.57755054], parameters w:[0.51542484], b:[-0.19279514]\n",
      "100 loss is [0.55533], parameters w:[0.52525546], b:[-0.20409753]\n",
      "100 loss is [0.53396453], parameters w:[0.53489184], b:[-0.21518315]\n",
      "100 loss is [0.51342122], parameters w:[0.54433782], b:[-0.22605613]\n",
      "100 loss is [0.49366844], parameters w:[0.55359716], b:[-0.23672057]\n",
      "100 loss is [0.47467574], parameters w:[0.56267356], b:[-0.24718045]\n",
      "100 loss is [0.45641388], parameters w:[0.57157064], b:[-0.25743968]\n",
      "100 loss is [0.43885473], parameters w:[0.58029195], b:[-0.26750213]\n",
      "100 loss is [0.42197125], parameters w:[0.58884096], b:[-0.27737154]\n",
      "100 loss is [0.40573742], parameters w:[0.59722109], b:[-0.28705163]\n",
      "100 loss is [0.39012825], parameters w:[0.60543568], b:[-0.29654602]\n",
      "100 loss is [0.37511969], parameters w:[0.613488], b:[-0.30585827]\n",
      "100 loss is [0.36068863], parameters w:[0.62138126], b:[-0.31499186]\n",
      "100 loss is [0.34681285], parameters w:[0.62911862], b:[-0.32395023]\n",
      "100 loss is [0.33347096], parameters w:[0.63670314], b:[-0.33273672]\n",
      "100 loss is [0.32064244], parameters w:[0.64413787], b:[-0.34135463]\n",
      "100 loss is [0.30830751], parameters w:[0.65142575], b:[-0.3498072]\n",
      "100 loss is [0.29644719], parameters w:[0.65856971], b:[-0.35809759]\n",
      "100 loss is [0.28504321], parameters w:[0.66557257], b:[-0.3662289]\n",
      "100 loss is [0.274078], parameters w:[0.67243714], b:[-0.37420419]\n",
      "100 loss is [0.26353469], parameters w:[0.67916615], b:[-0.38202645]\n",
      "100 loss is [0.25339703], parameters w:[0.68576227], b:[-0.38969861]\n",
      "100 loss is [0.24364942], parameters w:[0.69222815], b:[-0.39722355]\n",
      "100 loss is [0.23427684], parameters w:[0.69856635], b:[-0.40460408]\n",
      "100 loss is [0.22526487], parameters w:[0.7047794], b:[-0.41184298]\n",
      "100 loss is [0.21659962], parameters w:[0.71086978], b:[-0.41894296]\n",
      "100 loss is [0.20826775], parameters w:[0.7168399], b:[-0.42590668]\n",
      "100 loss is [0.20025645], parameters w:[0.72269215], b:[-0.43273676]\n",
      "100 loss is [0.19255336], parameters w:[0.72842887], b:[-0.43943575]\n",
      "100 loss is [0.18514663], parameters w:[0.73405233], b:[-0.44600617]\n",
      "100 loss is [0.17802485], parameters w:[0.73956477], b:[-0.45245049]\n",
      "100 loss is [0.17117707], parameters w:[0.74496838], b:[-0.45877112]\n",
      "100 loss is [0.16459273], parameters w:[0.75026533], b:[-0.46497043]\n",
      "100 loss is [0.15826171], parameters w:[0.75545772], b:[-0.47105075]\n",
      "100 loss is [0.15217425], parameters w:[0.76054762], b:[-0.47701436]\n",
      "100 loss is [0.14632097], parameters w:[0.76553704], b:[-0.48286349]\n",
      "100 loss is [0.14069288], parameters w:[0.77042799], b:[-0.48860035]\n",
      "100 loss is [0.13528131], parameters w:[0.7752224], b:[-0.49422708]\n",
      "100 loss is [0.13007791], parameters w:[0.77992218], b:[-0.4997458]\n",
      "100 loss is [0.12507469], parameters w:[0.78452921], b:[-0.50515857]\n",
      "100 loss is [0.12026395], parameters w:[0.78904532], b:[-0.51046744]\n",
      "100 loss is [0.11563827], parameters w:[0.7934723], b:[-0.51567438]\n",
      "100 loss is [0.11119053], parameters w:[0.79781192], b:[-0.52078136]\n",
      "100 loss is [0.1069139], parameters w:[0.8020659], b:[-0.5257903]\n",
      "100 loss is [0.10280178], parameters w:[0.80623593], b:[-0.53070306]\n",
      "100 loss is [0.09884784], parameters w:[0.81032369], b:[-0.5355215]\n",
      "100 loss is [0.09504601], parameters w:[0.81433078], b:[-0.54024743]\n",
      "100 loss is [0.09139042], parameters w:[0.8182588], b:[-0.54488261]\n",
      "100 loss is [0.08787546], parameters w:[0.82210933], b:[-0.5494288]\n",
      "100 loss is [0.0844957], parameters w:[0.82588388], b:[-0.55388769]\n",
      "100 loss is [0.08124596], parameters w:[0.82958396], b:[-0.55826097]\n",
      "100 loss is [0.07812122], parameters w:[0.83321104], b:[-0.56255027]\n",
      "100 loss is [0.07511668], parameters w:[0.83676657], b:[-0.5667572]\n",
      "100 loss is [0.07222771], parameters w:[0.84025196], b:[-0.57088335]\n",
      "100 loss is [0.06944986], parameters w:[0.84366858], b:[-0.57493026]\n",
      "100 loss is [0.06677887], parameters w:[0.84701781], b:[-0.57889945]\n",
      "100 loss is [0.06421062], parameters w:[0.85030098], b:[-0.58279242]\n",
      "100 loss is [0.06174116], parameters w:[0.85351938], b:[-0.58661062]\n",
      "100 loss is [0.05936668], parameters w:[0.8566743], b:[-0.59035549]\n",
      "100 loss is [0.05708354], parameters w:[0.85976699], b:[-0.59402844]\n",
      "100 loss is [0.05488821], parameters w:[0.86279868], b:[-0.59763085]\n",
      "100 loss is [0.05277733], parameters w:[0.86577058], b:[-0.60116407]\n",
      "100 loss is [0.05074764], parameters w:[0.86868386], b:[-0.60462943]\n",
      "100 loss is [0.04879602], parameters w:[0.87153969], b:[-0.60802822]\n",
      "100 loss is [0.04691946], parameters w:[0.8743392], b:[-0.61136174]\n",
      "100 loss is [0.04511508], parameters w:[0.87708351], b:[-0.61463122]\n",
      "100 loss is [0.0433801], parameters w:[0.87977369], b:[-0.6178379]\n",
      "100 loss is [0.04171186], parameters w:[0.88241082], b:[-0.62098298]\n",
      "[[-1.35920925]\n",
      " [-2.01868455]\n",
      " [-1.15864347]\n",
      " [-1.19371166]\n",
      " [ 0.88767418]\n",
      " [-0.35843098]\n",
      " [-0.84493982]\n",
      " [-0.77555386]\n",
      " [ 0.46635676]\n",
      " [ 0.56132763]]\n"
     ]
    }
   ],
   "source": [
    "w1,b1=predict(x,y,alpha,N,epochs)\n",
    "ygd=(x*w1)+b1\n",
    "print(ygd)"
   ],
   "metadata": {
    "collapsed": false,
    "pycharm": {
     "name": "#%%\n"
    }
   }
  },
  {
   "cell_type": "code",
   "execution_count": 105,
   "outputs": [
    {
     "name": "stdout",
     "output_type": "stream",
     "text": [
      "weight= [1.01369453]\n",
      "bias= [-0.78140581]\n"
     ]
    }
   ],
   "source": [
    "w,b=LSM(x,y,N)\n",
    "print('weight=',w)\n",
    "print('bias=',b)\n",
    "yls=(x*w)+b\n",
    "#print(yls)"
   ],
   "metadata": {
    "collapsed": false,
    "pycharm": {
     "name": "#%%\n"
    }
   }
  },
  {
   "cell_type": "code",
   "execution_count": 106,
   "outputs": [
    {
     "data": {
      "text/plain": "<Figure size 720x576 with 1 Axes>",
      "image/png": "[encoded data removed]"
     },
     "metadata": {
      "needs_background": "light"
     },
     "output_type": "display_data"
    }
   ],
   "source": [
    "\n",
    "\n",
    "\n",
    "\n",
    "plt.figure(figsize=(10,8))\n",
    "plt.scatter(x,y,label='real values')\n",
    "plt.plot(x,ygd,label='gradient descent')\n",
    "\n",
    "plt.plot(x,yls,label='least squares')\n",
    "\n",
    "plt.legend()\n",
    "\n",
    "plt.show()\n"
   ],
   "metadata": {
    "collapsed": false,
    "pycharm": {
     "name": "#%%\n"
    }
   }
  },
  {
   "cell_type": "code",
   "execution_count": 107,
   "outputs": [
    {
     "name": "stdout",
     "output_type": "stream",
     "text": [
      "[[-1.62946423]\n",
      " [-2.38705524]\n",
      " [-1.39905859]\n",
      " [-1.43934417]\n",
      " [ 0.95170701]\n",
      " [-0.47979173]\n",
      " [-1.0386826 ]\n",
      " [-0.95897351]\n",
      " [ 0.46770664]\n",
      " [ 0.57680713]]\n"
     ]
    }
   ],
   "source": [
    "from sklearn.linear_model import LinearRegression\n",
    "model=LinearRegression().fit(x,y)\n",
    "ylr=model.predict(x)\n",
    "print(ylr)"
   ],
   "metadata": {
    "collapsed": false,
    "pycharm": {
     "name": "#%%\n"
    }
   }
  },
  {
   "cell_type": "code",
   "execution_count": 154,
   "outputs": [
    {
     "data": {
      "text/plain": "<Figure size 720x576 with 1 Axes>",
      "image/png": "[encoded data removed]"
     },
     "metadata": {
      "needs_background": "light"
     },
     "output_type": "display_data"
    }
   ],
   "source": [
    "plt.figure(figsize=(10,8))\n",
    "plt.scatter(x,y,label='real values')\n",
    "plt.plot(x,yls,label='least squares')\n",
    "plt.plot(x,ylr,label='scikit learn')\n",
    "plt.legend()\n",
    "plt.show()"
   ],
   "metadata": {
    "collapsed": false,
    "pycharm": {
     "name": "#%%\n"
    }
   }
  },
  {
   "cell_type": "code",
   "execution_count": 150,
   "outputs": [],
   "source": [
    "nn=tf. keras . models . Sequential ()\n",
    "nn . add ( tf. keras . layers . Dense ( units =24 , input_dim =1 ,\n",
    "activation =tf. nn. relu ))\n",
    "nn . add ( tf. keras . layers . Dense ( units =32 , activation =tf. nn. relu ))\n",
    "#nn . add ( tf. keras . layers . Dense ( units =12 , activation =tf. nn. relu ))\n",
    "nn . add ( tf. keras . layers . Dense ( units =1 , activation =tf.nn.relu))\n"
   ],
   "metadata": {
    "collapsed": false,
    "pycharm": {
     "name": "#%%\n"
    }
   }
  },
  {
   "cell_type": "code",
   "execution_count": 151,
   "outputs": [],
   "source": [
    "nn . compile ( optimizer =tf. keras . optimizers . Adam ( learning_rate =0.001),\n",
    "loss =tf. keras . losses .MSE )"
   ],
   "metadata": {
    "collapsed": false,
    "pycharm": {
     "name": "#%%\n"
    }
   }
  },
  {
   "cell_type": "code",
   "execution_count": 152,
   "outputs": [
    {
     "name": "stdout",
     "output_type": "stream",
     "text": [
      "Epoch 1/100\n",
      "1/1 [==============================] - 1s 775ms/step - loss: 1.6400\n",
      "Epoch 2/100\n",
      "1/1 [==============================] - 0s 8ms/step - loss: 1.6158\n",
      "Epoch 3/100\n",
      "1/1 [==============================] - 0s 8ms/step - loss: 1.5930\n",
      "Epoch 4/100\n",
      "1/1 [==============================] - 0s 8ms/step - loss: 1.5731\n",
      "Epoch 5/100\n",
      "1/1 [==============================] - 0s 4ms/step - loss: 1.5551\n",
      "Epoch 6/100\n",
      "1/1 [==============================] - 0s 4ms/step - loss: 1.5427\n",
      "Epoch 7/100\n",
      "1/1 [==============================] - 0s 4ms/step - loss: 1.5350\n",
      "Epoch 8/100\n",
      "1/1 [==============================] - 0s 8ms/step - loss: 1.5302\n",
      "Epoch 9/100\n",
      "1/1 [==============================] - 0s 4ms/step - loss: 1.5255\n",
      "Epoch 10/100\n",
      "1/1 [==============================] - 0s 4ms/step - loss: 1.5212\n",
      "Epoch 11/100\n",
      "1/1 [==============================] - 0s 8ms/step - loss: 1.5170\n",
      "Epoch 12/100\n",
      "1/1 [==============================] - 0s 8ms/step - loss: 1.5131\n",
      "Epoch 13/100\n",
      "1/1 [==============================] - 0s 8ms/step - loss: 1.5095\n",
      "Epoch 14/100\n",
      "1/1 [==============================] - 0s 8ms/step - loss: 1.5061\n",
      "Epoch 15/100\n",
      "1/1 [==============================] - 0s 8ms/step - loss: 1.5031\n",
      "Epoch 16/100\n",
      "1/1 [==============================] - 0s 4ms/step - loss: 1.5003\n",
      "Epoch 17/100\n",
      "1/1 [==============================] - 0s 4ms/step - loss: 1.4978\n",
      "Epoch 18/100\n",
      "1/1 [==============================] - 0s 8ms/step - loss: 1.4956\n",
      "Epoch 19/100\n",
      "1/1 [==============================] - 0s 8ms/step - loss: 1.4935\n",
      "Epoch 20/100\n",
      "1/1 [==============================] - 0s 8ms/step - loss: 1.4917\n",
      "Epoch 21/100\n",
      "1/1 [==============================] - 0s 8ms/step - loss: 1.4902\n",
      "Epoch 22/100\n",
      "1/1 [==============================] - 0s 4ms/step - loss: 1.4890\n",
      "Epoch 23/100\n",
      "1/1 [==============================] - 0s 8ms/step - loss: 1.4880\n",
      "Epoch 24/100\n",
      "1/1 [==============================] - 0s 8ms/step - loss: 1.4871\n",
      "Epoch 25/100\n",
      "1/1 [==============================] - 0s 8ms/step - loss: 1.4863\n",
      "Epoch 26/100\n",
      "1/1 [==============================] - 0s 4ms/step - loss: 1.4857\n",
      "Epoch 27/100\n",
      "1/1 [==============================] - 0s 4ms/step - loss: 1.4851\n",
      "Epoch 28/100\n",
      "1/1 [==============================] - 0s 4ms/step - loss: 1.4846\n",
      "Epoch 29/100\n",
      "1/1 [==============================] - 0s 8ms/step - loss: 1.4842\n",
      "Epoch 30/100\n",
      "1/1 [==============================] - 0s 8ms/step - loss: 1.4838\n",
      "Epoch 31/100\n",
      "1/1 [==============================] - 0s 8ms/step - loss: 1.4835\n",
      "Epoch 32/100\n",
      "1/1 [==============================] - 0s 8ms/step - loss: 1.4832\n",
      "Epoch 33/100\n",
      "1/1 [==============================] - 0s 8ms/step - loss: 1.4829\n",
      "Epoch 34/100\n",
      "1/1 [==============================] - 0s 5ms/step - loss: 1.4826\n",
      "Epoch 35/100\n",
      "1/1 [==============================] - 0s 4ms/step - loss: 1.4824\n",
      "Epoch 36/100\n",
      "1/1 [==============================] - 0s 8ms/step - loss: 1.4821\n",
      "Epoch 37/100\n",
      "1/1 [==============================] - 0s 8ms/step - loss: 1.4818\n",
      "Epoch 38/100\n",
      "1/1 [==============================] - 0s 8ms/step - loss: 1.4815\n",
      "Epoch 39/100\n",
      "1/1 [==============================] - 0s 8ms/step - loss: 1.4812\n",
      "Epoch 40/100\n",
      "1/1 [==============================] - 0s 8ms/step - loss: 1.4809\n",
      "Epoch 41/100\n",
      "1/1 [==============================] - 0s 8ms/step - loss: 1.4805\n",
      "Epoch 42/100\n",
      "1/1 [==============================] - 0s 4ms/step - loss: 1.4802\n",
      "Epoch 43/100\n",
      "1/1 [==============================] - 0s 4ms/step - loss: 1.4798\n",
      "Epoch 44/100\n",
      "1/1 [==============================] - 0s 4ms/step - loss: 1.4794\n",
      "Epoch 45/100\n",
      "1/1 [==============================] - 0s 8ms/step - loss: 1.4790\n",
      "Epoch 46/100\n",
      "1/1 [==============================] - 0s 4ms/step - loss: 1.4787\n",
      "Epoch 47/100\n",
      "1/1 [==============================] - 0s 4ms/step - loss: 1.4783\n",
      "Epoch 48/100\n",
      "1/1 [==============================] - 0s 4ms/step - loss: 1.4779\n",
      "Epoch 49/100\n",
      "1/1 [==============================] - 0s 4ms/step - loss: 1.4775\n",
      "Epoch 50/100\n",
      "1/1 [==============================] - 0s 4ms/step - loss: 1.4771\n",
      "Epoch 51/100\n",
      "1/1 [==============================] - 0s 8ms/step - loss: 1.4767\n",
      "Epoch 52/100\n",
      "1/1 [==============================] - 0s 4ms/step - loss: 1.4763\n",
      "Epoch 53/100\n",
      "1/1 [==============================] - 0s 8ms/step - loss: 1.4759\n",
      "Epoch 54/100\n",
      "1/1 [==============================] - 0s 8ms/step - loss: 1.4755\n",
      "Epoch 55/100\n",
      "1/1 [==============================] - 0s 8ms/step - loss: 1.4751\n",
      "Epoch 56/100\n",
      "1/1 [==============================] - 0s 8ms/step - loss: 1.4748\n",
      "Epoch 57/100\n",
      "1/1 [==============================] - 0s 8ms/step - loss: 1.4744\n",
      "Epoch 58/100\n",
      "1/1 [==============================] - 0s 8ms/step - loss: 1.4740\n",
      "Epoch 59/100\n",
      "1/1 [==============================] - 0s 8ms/step - loss: 1.4737\n",
      "Epoch 60/100\n",
      "1/1 [==============================] - 0s 8ms/step - loss: 1.4733\n",
      "Epoch 61/100\n",
      "1/1 [==============================] - 0s 8ms/step - loss: 1.4730\n",
      "Epoch 62/100\n",
      "1/1 [==============================] - 0s 8ms/step - loss: 1.4726\n",
      "Epoch 63/100\n",
      "1/1 [==============================] - 0s 8ms/step - loss: 1.4723\n",
      "Epoch 64/100\n",
      "1/1 [==============================] - 0s 8ms/step - loss: 1.4719\n",
      "Epoch 65/100\n",
      "1/1 [==============================] - 0s 8ms/step - loss: 1.4716\n",
      "Epoch 66/100\n",
      "1/1 [==============================] - 0s 4ms/step - loss: 1.4712\n",
      "Epoch 67/100\n",
      "1/1 [==============================] - 0s 4ms/step - loss: 1.4709\n",
      "Epoch 68/100\n",
      "1/1 [==============================] - 0s 4ms/step - loss: 1.4705\n",
      "Epoch 69/100\n",
      "1/1 [==============================] - 0s 4ms/step - loss: 1.4702\n",
      "Epoch 70/100\n",
      "1/1 [==============================] - 0s 8ms/step - loss: 1.4698\n",
      "Epoch 71/100\n",
      "1/1 [==============================] - 0s 8ms/step - loss: 1.4695\n",
      "Epoch 72/100\n",
      "1/1 [==============================] - 0s 8ms/step - loss: 1.4691\n",
      "Epoch 73/100\n",
      "1/1 [==============================] - 0s 4ms/step - loss: 1.4688\n",
      "Epoch 74/100\n",
      "1/1 [==============================] - 0s 0s/step - loss: 1.4684\n",
      "Epoch 75/100\n",
      "1/1 [==============================] - 0s 0s/step - loss: 1.4681\n",
      "Epoch 76/100\n",
      "1/1 [==============================] - 0s 12ms/step - loss: 1.4677\n",
      "Epoch 77/100\n",
      "1/1 [==============================] - 0s 8ms/step - loss: 1.4673\n",
      "Epoch 78/100\n",
      "1/1 [==============================] - 0s 8ms/step - loss: 1.4670\n",
      "Epoch 79/100\n",
      "1/1 [==============================] - 0s 8ms/step - loss: 1.4666\n",
      "Epoch 80/100\n",
      "1/1 [==============================] - 0s 4ms/step - loss: 1.4662\n",
      "Epoch 81/100\n",
      "1/1 [==============================] - 0s 4ms/step - loss: 1.4659\n",
      "Epoch 82/100\n",
      "1/1 [==============================] - 0s 4ms/step - loss: 1.4655\n",
      "Epoch 83/100\n",
      "1/1 [==============================] - 0s 4ms/step - loss: 1.4652\n",
      "Epoch 84/100\n",
      "1/1 [==============================] - 0s 8ms/step - loss: 1.4648\n",
      "Epoch 85/100\n",
      "1/1 [==============================] - 0s 8ms/step - loss: 1.4645\n",
      "Epoch 86/100\n",
      "1/1 [==============================] - 0s 4ms/step - loss: 1.4644\n",
      "Epoch 87/100\n",
      "1/1 [==============================] - 0s 4ms/step - loss: 1.4643\n",
      "Epoch 88/100\n",
      "1/1 [==============================] - 0s 4ms/step - loss: 1.4642\n",
      "Epoch 89/100\n",
      "1/1 [==============================] - 0s 8ms/step - loss: 1.4641\n",
      "Epoch 90/100\n",
      "1/1 [==============================] - 0s 8ms/step - loss: 1.4639\n",
      "Epoch 91/100\n",
      "1/1 [==============================] - 0s 4ms/step - loss: 1.4638\n",
      "Epoch 92/100\n",
      "1/1 [==============================] - 0s 4ms/step - loss: 1.4637\n",
      "Epoch 93/100\n",
      "1/1 [==============================] - 0s 4ms/step - loss: 1.4636\n",
      "Epoch 94/100\n",
      "1/1 [==============================] - 0s 8ms/step - loss: 1.4635\n",
      "Epoch 95/100\n",
      "1/1 [==============================] - 0s 8ms/step - loss: 1.4634\n",
      "Epoch 96/100\n",
      "1/1 [==============================] - 0s 8ms/step - loss: 1.4634\n",
      "Epoch 97/100\n",
      "1/1 [==============================] - 0s 8ms/step - loss: 1.4633\n",
      "Epoch 98/100\n",
      "1/1 [==============================] - 0s 8ms/step - loss: 1.4633\n",
      "Epoch 99/100\n",
      "1/1 [==============================] - 0s 4ms/step - loss: 1.4632\n",
      "Epoch 100/100\n",
      "1/1 [==============================] - 0s 4ms/step - loss: 1.4632\n"
     ]
    },
    {
     "data": {
      "text/plain": "<keras.callbacks.History at 0x1a16e9c46d0>"
     },
     "execution_count": 152,
     "metadata": {},
     "output_type": "execute_result"
    }
   ],
   "source": [
    "nn . fit ( x=x, y=y ,batch_size=32, epochs =epochs , verbose =1)\n"
   ],
   "metadata": {
    "collapsed": false,
    "pycharm": {
     "name": "#%%\n"
    }
   }
  },
  {
   "cell_type": "code",
   "execution_count": 156,
   "outputs": [
    {
     "name": "stdout",
     "output_type": "stream",
     "text": [
      "1/1 [==============================] - 0s 28ms/step\n"
     ]
    }
   ],
   "source": [
    "ynn=nn.predict(x)"
   ],
   "metadata": {
    "collapsed": false,
    "pycharm": {
     "name": "#%%\n"
    }
   }
  },
  {
   "cell_type": "code",
   "execution_count": 157,
   "outputs": [
    {
     "data": {
      "text/plain": "<Figure size 720x576 with 1 Axes>",
      "image/png": "[encoded data removed]"
     },
     "metadata": {
      "needs_background": "light"
     },
     "output_type": "display_data"
    }
   ],
   "source": [
    "plt.figure(figsize=(10, 8))\n",
    "plt.scatter(x, y, label='real values')\n",
    "plt.plot(x, yls, label='least squares')\n",
    "plt.plot(x, ynn, label='neural network')\n",
    "plt.legend()\n",
    "plt.show()"
   ],
   "metadata": {
    "collapsed": false,
    "pycharm": {
     "name": "#%%\n"
    }
   }
  },
  {
   "cell_type": "code",
   "execution_count": null,
   "outputs": [],
   "source": [],
   "metadata": {
    "collapsed": false,
    "pycharm": {
     "name": "#%%\n"
    }
   }
  }
 ],
 "metadata": {
  "kernelspec": {
   "display_name": "Python 3",
   "language": "python",
   "name": "python3"
  },
  "language_info": {
   "codemirror_mode": {
    "name": "ipython",
    "version": 2
   },
   "file_extension": ".py",
   "mimetype": "text/x-python",
   "name": "python",
   "nbconvert_exporter": "python",
   "pygments_lexer": "ipython2",
   "version": "2.7.6"
  }
 },
 "nbformat": 4,
 "nbformat_minor": 0
}