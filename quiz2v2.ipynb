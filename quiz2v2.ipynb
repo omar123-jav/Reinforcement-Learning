{
 "cells": [
  {
   "cell_type": "code",
   "execution_count": 6,
   "metadata": {
    "collapsed": true
   },
   "outputs": [],
   "source": [
    "import numpy as np\n",
    "import matplotlib.pyplot as plt\n",
    "import sklearn as scp\n",
    "import tensorflow as tf\n",
    "import random\n",
    "import pandas as pd\n"
   ]
  },
  {
   "cell_type": "code",
   "execution_count": 3,
   "outputs": [],
   "source": [
    "def gradientDescent(x,y,w,b,alpha,N):\n",
    "\n",
    "    dJdw = 0\n",
    "    dJdb = 0\n",
    "\n",
    "    for xi,yi in zip(x,y):\n",
    "\n",
    "        dJdw += -2*xi*(yi - (w*xi + b))\n",
    "        dJdb += -2*(yi - (w*xi + b))\n",
    "\n",
    "    w -= alpha*dJdw/N\n",
    "    b -= alpha*dJdb/N\n",
    "\n",
    "    return w, b"
   ],
   "metadata": {
    "collapsed": false,
    "pycharm": {
     "name": "#%%\n"
    }
   }
  },
  {
   "cell_type": "code",
   "execution_count": 4,
   "outputs": [],
   "source": [
    "\n",
    "def predict(x,y,alpha,N,epochs):\n",
    "\n",
    "     w = random.random()\n",
    "     b = random.random()\n",
    "\n",
    "     for i in range(epochs):\n",
    "\n",
    "        w,b = gradientDescent(x, y,w,b,alpha,N)\n",
    "        yhat = w*x +b\n",
    "        J = np.divide(np.sum((y-yhat)**2, axis=0), N)\n",
    "        print(f'{epochs} loss is {J}, parameters w:{w}, b:{b}')\n",
    "     return w,b"
   ],
   "metadata": {
    "collapsed": false,
    "pycharm": {
     "name": "#%%\n"
    }
   }
  },
  {
   "cell_type": "code",
   "execution_count": 5,
   "outputs": [],
   "source": [
    "def LSM(x,y,N):\n",
    "\n",
    "    sum_xy = 0\n",
    "    sum_x = 0\n",
    "    sum_y = 0\n",
    "    sum_x2 = 0\n",
    "\n",
    "    for xi,yi in zip(x,y):\n",
    "\n",
    "        sum_xy += xi*yi\n",
    "        sum_x += xi\n",
    "        sum_y += yi\n",
    "        sum_x2 += xi**2\n",
    "\n",
    "    m = (N*sum_xy - sum_x*sum_y)/(N*sum_x2 - sum_x**2)\n",
    "    b = (sum_y - m*sum_x)/N\n",
    "\n",
    "    return m, b"
   ],
   "metadata": {
    "collapsed": false,
    "pycharm": {
     "name": "#%%\n"
    }
   }
  },
  {
   "cell_type": "code",
   "execution_count": 39,
   "outputs": [
    {
     "name": "stdout",
     "output_type": "stream",
     "text": [
      "[[ 1.2]\n",
      " [ 1.4]\n",
      " [ 1.6]\n",
      " [ 2.1]\n",
      " [ 2.3]\n",
      " [ 3. ]\n",
      " [ 3.1]\n",
      " [ 3.3]\n",
      " [ 3.3]\n",
      " [ 3.8]\n",
      " [ 4. ]\n",
      " [ 4.1]\n",
      " [ 4.1]\n",
      " [ 4.2]\n",
      " [ 4.6]\n",
      " [ 5. ]\n",
      " [ 5.2]\n",
      " [ 5.4]\n",
      " [ 6. ]\n",
      " [ 6.1]\n",
      " [ 6.9]\n",
      " [ 7.2]\n",
      " [ 8. ]\n",
      " [ 8.3]\n",
      " [ 8.8]\n",
      " [ 9.1]\n",
      " [ 9.6]\n",
      " [ 9.7]\n",
      " [10.4]\n",
      " [10.6]]\n",
      "[[ 39344.]\n",
      " [ 46206.]\n",
      " [ 37732.]\n",
      " [ 43526.]\n",
      " [ 39892.]\n",
      " [ 56643.]\n",
      " [ 60151.]\n",
      " [ 54446.]\n",
      " [ 64446.]\n",
      " [ 57190.]\n",
      " [ 63219.]\n",
      " [ 55795.]\n",
      " [ 56958.]\n",
      " [ 57082.]\n",
      " [ 61112.]\n",
      " [ 67939.]\n",
      " [ 66030.]\n",
      " [ 83089.]\n",
      " [ 81364.]\n",
      " [ 93941.]\n",
      " [ 91739.]\n",
      " [ 98274.]\n",
      " [101303.]\n",
      " [113813.]\n",
      " [109432.]\n",
      " [105583.]\n",
      " [116970.]\n",
      " [112636.]\n",
      " [122392.]\n",
      " [121873.]]\n",
      "30\n"
     ]
    }
   ],
   "source": [
    "df=pd.read_csv('Salary_dataset.csv')\n",
    "x=df['YearsExperience']\n",
    "y=df['Salary']\n",
    "x=np.asarray(x)\n",
    "y=np.asarray(y)\n",
    "x=np.reshape(x,(30,1))\n",
    "y=np.reshape(y,(30,1))\n",
    "epochs = 100\n",
    "alpha=0.01\n",
    "N=x.shape[0]\n",
    "print(x)\n",
    "print(y)\n",
    "print(N)"
   ],
   "metadata": {
    "collapsed": false,
    "pycharm": {
     "name": "#%%\n"
    }
   }
  },
  {
   "cell_type": "code",
   "execution_count": 40,
   "outputs": [
    {
     "name": "stdout",
     "output_type": "stream",
     "text": [
      "100 loss is [5.1461191e+08], parameters w:[9700.11580292], b:[1520.10548603]\n",
      "100 loss is [1.6212368e+08], parameters w:[12040.2107479], b:[1959.58417205]\n",
      "100 loss is [1.40584777e+08], parameters w:[12596.87357156], b:[2136.91900497]\n",
      "100 loss is [1.38486314e+08], parameters w:[12721.41188355], b:[2250.43911285]\n",
      "100 loss is [1.37536244e+08], parameters w:[12741.27889254], b:[2348.20547067]\n",
      "100 loss is [1.36660392e+08], parameters w:[12735.82398148], b:[2441.86556649]\n",
      "100 loss is [1.35795625e+08], parameters w:[12724.27518434], b:[2534.24304543]\n",
      "100 loss is [1.3493818e+08], parameters w:[12711.29172921], b:[2626.02332457]\n",
      "100 loss is [1.34087783e+08], parameters w:[12698.0024831], b:[2717.37367353]\n",
      "100 loss is [1.33244362e+08], parameters w:[12684.68082478], b:[2808.33579788]\n",
      "100 loss is [1.3240786e+08], parameters w:[12671.39282899], b:[2898.9209713]\n",
      "100 loss is [1.3157822e+08], parameters w:[12658.15433652], b:[2989.13308825]\n",
      "100 loss is [1.30755386e+08], parameters w:[12644.96901606], b:[3078.97425032]\n",
      "100 loss is [1.29939301e+08], parameters w:[12631.83758737], b:[3168.44611984]\n",
      "100 loss is [1.29129911e+08], parameters w:[12618.76005632], b:[3257.55024799]\n",
      "100 loss is [1.28327161e+08], parameters w:[12605.73625649], b:[3346.28815426]\n",
      "100 loss is [1.27530996e+08], parameters w:[12592.76598041], b:[3434.66134581]\n",
      "100 loss is [1.26741361e+08], parameters w:[12579.84901132], b:[3522.67132208]\n",
      "100 loss is [1.25958204e+08], parameters w:[12566.9851309], b:[3610.31957601]\n",
      "100 loss is [1.25181472e+08], parameters w:[12554.17412117], b:[3697.60759432]\n",
      "100 loss is [1.24411111e+08], parameters w:[12541.41576486], b:[3784.53685758]\n",
      "100 loss is [1.23647069e+08], parameters w:[12528.70984558], b:[3871.10884029]\n",
      "100 loss is [1.22889295e+08], parameters w:[12516.05614782], b:[3957.32501087]\n",
      "100 loss is [1.22137738e+08], parameters w:[12503.45445694], b:[4043.18683171]\n",
      "100 loss is [1.21392345e+08], parameters w:[12490.90455919], b:[4128.69575921]\n",
      "100 loss is [1.20653067e+08], parameters w:[12478.40624171], b:[4213.85324375]\n",
      "100 loss is [1.19919853e+08], parameters w:[12465.9592925], b:[4298.66072977]\n",
      "100 loss is [1.19192654e+08], parameters w:[12453.56350044], b:[4383.11965577]\n",
      "100 loss is [1.1847142e+08], parameters w:[12441.21865526], b:[4467.23145434]\n",
      "100 loss is [1.17756103e+08], parameters w:[12428.92454758], b:[4550.99755218]\n",
      "100 loss is [1.17046653e+08], parameters w:[12416.68096886], b:[4634.41937012]\n",
      "100 loss is [1.16343023e+08], parameters w:[12404.48771144], b:[4717.49832315]\n",
      "100 loss is [1.15645165e+08], parameters w:[12392.34456848], b:[4800.23582046]\n",
      "100 loss is [1.14953032e+08], parameters w:[12380.25133401], b:[4882.63326544]\n",
      "100 loss is [1.14266576e+08], parameters w:[12368.20780292], b:[4964.6920557]\n",
      "100 loss is [1.13585752e+08], parameters w:[12356.21377092], b:[5046.41358313]\n",
      "100 loss is [1.12910512e+08], parameters w:[12344.26903457], b:[5127.79923387]\n",
      "100 loss is [1.12240812e+08], parameters w:[12332.37339126], b:[5208.85038838]\n",
      "100 loss is [1.11576605e+08], parameters w:[12320.52663922], b:[5289.56842145]\n",
      "100 loss is [1.10917847e+08], parameters w:[12308.72857751], b:[5369.95470222]\n",
      "100 loss is [1.10264492e+08], parameters w:[12296.979006], b:[5450.01059418]\n",
      "100 loss is [1.09616497e+08], parameters w:[12285.27772541], b:[5529.73745525]\n",
      "100 loss is [1.08973818e+08], parameters w:[12273.62453725], b:[5609.13663774]\n",
      "100 loss is [1.08336411e+08], parameters w:[12262.01924387], b:[5688.20948842]\n",
      "100 loss is [1.07704232e+08], parameters w:[12250.46164841], b:[5766.95734851]\n",
      "100 loss is [1.0707724e+08], parameters w:[12238.95155484], b:[5845.38155374]\n",
      "100 loss is [1.0645539e+08], parameters w:[12227.48876793], b:[5923.48343433]\n",
      "100 loss is [1.05838642e+08], parameters w:[12216.07309324], b:[6001.26431504]\n",
      "100 loss is [1.05226953e+08], parameters w:[12204.70433714], b:[6078.72551517]\n",
      "100 loss is [1.04620282e+08], parameters w:[12193.3823068], b:[6155.86834863]\n",
      "100 loss is [1.04018587e+08], parameters w:[12182.10681017], b:[6232.69412391]\n",
      "100 loss is [1.03421828e+08], parameters w:[12170.87765599], b:[6309.20414412]\n",
      "100 loss is [1.02829965e+08], parameters w:[12159.69465381], b:[6385.39970702]\n",
      "100 loss is [1.02242956e+08], parameters w:[12148.55761393], b:[6461.28210502]\n",
      "100 loss is [1.01660763e+08], parameters w:[12137.46634745], b:[6536.85262525]\n",
      "100 loss is [1.01083346e+08], parameters w:[12126.42066623], b:[6612.11254953]\n",
      "100 loss is [1.00510665e+08], parameters w:[12115.42038293], b:[6687.06315441]\n",
      "100 loss is [99942682.30995454], parameters w:[12104.46531096], b:[6761.7057112]\n",
      "100 loss is [99379358.6754829], parameters w:[12093.5552645], b:[6836.04148597]\n",
      "100 loss is [98820656.06212781], parameters w:[12082.69005848], b:[6910.07173962]\n",
      "100 loss is [98266536.5630186], parameters w:[12071.86950862], b:[6983.79772783]\n",
      "100 loss is [97716962.5822398], parameters w:[12061.09343139], b:[7057.22070114]\n",
      "100 loss is [97171896.83228047], parameters w:[12050.36164399], b:[7130.34190494]\n",
      "100 loss is [96631302.33150432], parameters w:[12039.67396439], b:[7203.16257952]\n",
      "100 loss is [96095142.40164034], parameters w:[12029.03021132], b:[7275.68396005]\n",
      "100 loss is [95563380.66529442], parameters w:[12018.43020422], b:[7347.90727664]\n",
      "100 loss is [95035981.0434814], parameters w:[12007.87376332], b:[7419.83375433]\n",
      "100 loss is [94512907.75317672], parameters w:[11997.36070954], b:[7491.46461313]\n",
      "100 loss is [93994125.30488917], parameters w:[11986.89086456], b:[7562.80106805]\n",
      "100 loss is [93479598.50025243], parameters w:[11976.46405081], b:[7633.84432909]\n",
      "100 loss is [92969292.42963737], parameters w:[11966.08009141], b:[7704.59560127]\n",
      "100 loss is [92463172.46978344], parameters w:[11955.73881024], b:[7775.05608468]\n",
      "100 loss is [91961204.28144918], parameters w:[11945.44003189], b:[7845.22697447]\n",
      "100 loss is [91463353.80708286], parameters w:[11935.18358166], b:[7915.10946086]\n",
      "100 loss is [90969587.26851137], parameters w:[11924.9692856], b:[7984.7047292]\n",
      "100 loss is [90479871.16464876], parameters w:[11914.79697045], b:[8054.01395996]\n",
      "100 loss is [89994172.26922293], parameters w:[11904.66646367], b:[8123.03832876]\n",
      "100 loss is [89512457.62852153], parameters w:[11894.57759341], b:[8191.77900639]\n",
      "100 loss is [89034694.55915609], parameters w:[11884.53018856], b:[8260.23715881]\n",
      "100 loss is [88560850.64584436], parameters w:[11874.52407869], b:[8328.41394722]\n",
      "100 loss is [88090893.73921119], parameters w:[11864.55909409], b:[8396.31052802]\n",
      "100 loss is [87624791.95360693], parameters w:[11854.63506571], b:[8463.92805288]\n",
      "100 loss is [87162513.66494474], parameters w:[11844.75182524], b:[8531.26766871]\n",
      "100 loss is [86704027.50855404], parameters w:[11834.90920504], b:[8598.33051772]\n",
      "100 loss is [86249302.37705332], parameters w:[11825.10703815], b:[8665.11773743]\n",
      "100 loss is [85798307.4182389], parameters w:[11815.3451583], b:[8731.63046069]\n",
      "100 loss is [85351012.03299217], parameters w:[11805.62339993], b:[8797.86981567]\n",
      "100 loss is [84907385.87320319], parameters w:[11795.94159813], b:[8863.83692592]\n",
      "100 loss is [84467398.83971168], parameters w:[11786.29958868], b:[8929.53291038]\n",
      "100 loss is [84031021.08026515], parameters w:[11776.69720803], b:[8994.95888337]\n",
      "100 loss is [83598222.98749284], parameters w:[11767.1342933], b:[9060.11595465]\n",
      "100 loss is [83168975.19689776], parameters w:[11757.6106823], b:[9125.0052294]\n",
      "100 loss is [82743248.58486359], parameters w:[11748.12621348], b:[9189.62780827]\n",
      "100 loss is [82321014.26667912], parameters w:[11738.68072596], b:[9253.9847874]\n",
      "100 loss is [81902243.59457849], parameters w:[11729.27405954], b:[9318.07725838]\n",
      "100 loss is [81486908.15579727], parameters w:[11719.90605465], b:[9381.90630837]\n",
      "100 loss is [81074979.77064492], parameters w:[11710.57655241], b:[9445.47302002]\n",
      "100 loss is [80666430.49059273], parameters w:[11701.28539455], b:[9508.77847155]\n",
      "100 loss is [80261232.59637767], parameters w:[11692.03242349], b:[9571.82373673]\n",
      "100 loss is [79859358.59612149], parameters w:[11682.81748228], b:[9634.60988495]\n",
      "[[ 23653.99086368]\n",
      " [ 25990.55436014]\n",
      " [ 28327.1178566 ]\n",
      " [ 34168.52659774]\n",
      " [ 36505.09009419]\n",
      " [ 44683.06233179]\n",
      " [ 45851.34408002]\n",
      " [ 48187.90757647]\n",
      " [ 48187.90757647]\n",
      " [ 54029.31631762]\n",
      " [ 56365.87981407]\n",
      " [ 57534.1615623 ]\n",
      " [ 57534.1615623 ]\n",
      " [ 58702.44331053]\n",
      " [ 63375.57030344]\n",
      " [ 68048.69729635]\n",
      " [ 70385.26079281]\n",
      " [ 72721.82428927]\n",
      " [ 79731.51477863]\n",
      " [ 80899.79652686]\n",
      " [ 90246.05051269]\n",
      " [ 93750.89575737]\n",
      " [103097.1497432 ]\n",
      " [106601.99498788]\n",
      " [112443.40372902]\n",
      " [115948.24897371]\n",
      " [121789.65771485]\n",
      " [122957.93946307]\n",
      " [131135.91170067]\n",
      " [133472.47519713]]\n"
     ]
    }
   ],
   "source": [
    "\n",
    "w1,b1=predict(x,y,alpha,N,epochs)\n",
    "ygd=(x*w1)+b1\n",
    "print(ygd)"
   ],
   "metadata": {
    "collapsed": false,
    "pycharm": {
     "name": "#%%\n"
    }
   }
  },
  {
   "cell_type": "code",
   "execution_count": 41,
   "outputs": [
    {
     "name": "stdout",
     "output_type": "stream",
     "text": [
      "weight= [9449.96232146]\n",
      "bias= [24848.20396652]\n"
     ]
    }
   ],
   "source": [
    "w,b=LSM(x,y,N)\n",
    "print('weight=',w)\n",
    "print('bias=',b)\n",
    "yls=(x*w)+b\n",
    "#print(yls)"
   ],
   "metadata": {
    "collapsed": false,
    "pycharm": {
     "name": "#%%\n"
    }
   }
  },
  {
   "cell_type": "code",
   "execution_count": 42,
   "outputs": [
    {
     "data": {
      "text/plain": "<Figure size 720x576 with 1 Axes>",
      "image/png": "[encoded data removed]"
     },
     "metadata": {
      "needs_background": "light"
     },
     "output_type": "display_data"
    }
   ],
   "source": [
    "\n",
    "\n",
    "\n",
    "\n",
    "plt.figure(figsize=(10,8))\n",
    "plt.scatter(x,y,label='real values')\n",
    "plt.plot(x,ygd,label='gradient descent')\n",
    "\n",
    "plt.plot(x,yls,label='least squares')\n",
    "\n",
    "plt.legend()\n",
    "\n",
    "plt.show()\n"
   ],
   "metadata": {
    "collapsed": false,
    "pycharm": {
     "name": "#%%\n"
    }
   }
  },
  {
   "cell_type": "code",
   "execution_count": 43,
   "outputs": [
    {
     "name": "stdout",
     "output_type": "stream",
     "text": [
      "[[ 36188.15875227]\n",
      " [ 38078.15121656]\n",
      " [ 39968.14368085]\n",
      " [ 44693.12484158]\n",
      " [ 46583.11730587]\n",
      " [ 53198.09093089]\n",
      " [ 54143.08716303]\n",
      " [ 56033.07962732]\n",
      " [ 56033.07962732]\n",
      " [ 60758.06078805]\n",
      " [ 62648.05325234]\n",
      " [ 63593.04948449]\n",
      " [ 63593.04948449]\n",
      " [ 64538.04571663]\n",
      " [ 68318.03064522]\n",
      " [ 72098.0155738 ]\n",
      " [ 73988.00803809]\n",
      " [ 75878.00050238]\n",
      " [ 81547.97789525]\n",
      " [ 82492.9741274 ]\n",
      " [ 90052.94398456]\n",
      " [ 92887.932681  ]\n",
      " [100447.90253816]\n",
      " [103282.8912346 ]\n",
      " [108007.87239533]\n",
      " [110842.86109176]\n",
      " [115567.84225249]\n",
      " [116512.83848464]\n",
      " [123127.81210966]\n",
      " [125017.80457395]]\n"
     ]
    }
   ],
   "source": [
    "from sklearn.linear_model import LinearRegression\n",
    "model=LinearRegression().fit(x,y)\n",
    "ylr=model.predict(x)\n",
    "print(ylr)"
   ],
   "metadata": {
    "collapsed": false,
    "pycharm": {
     "name": "#%%\n"
    }
   }
  },
  {
   "cell_type": "code",
   "execution_count": 44,
   "outputs": [
    {
     "data": {
      "text/plain": "<Figure size 720x576 with 1 Axes>",
      "image/png": "[encoded data removed]"
     },
     "metadata": {
      "needs_background": "light"
     },
     "output_type": "display_data"
    }
   ],
   "source": [
    "plt.figure(figsize=(10,8))\n",
    "plt.scatter(x,y,label='real values')\n",
    "plt.plot(x,yls,label='least squares')\n",
    "plt.plot(x,ylr,label='scikit learn')\n",
    "plt.legend()\n",
    "plt.show()"
   ],
   "metadata": {
    "collapsed": false,
    "pycharm": {
     "name": "#%%\n"
    }
   }
  },
  {
   "cell_type": "code",
   "execution_count": 45,
   "outputs": [],
   "source": [
    "nn=tf. keras . models . Sequential ()\n",
    "nn . add ( tf. keras . layers . Dense ( units =24 , input_dim =1 ,\n",
    "activation =tf. nn. relu ))\n",
    "nn . add ( tf. keras . layers . Dense ( units =32 , activation =tf. nn. relu ))\n",
    "nn . add ( tf. keras . layers . Dense ( units =40 , activation =tf. nn. relu ))\n",
    "nn . add ( tf. keras . layers . Dense ( units =1 , activation =tf.nn.relu))\n"
   ],
   "metadata": {
    "collapsed": false,
    "pycharm": {
     "name": "#%%\n"
    }
   }
  },
  {
   "cell_type": "code",
   "execution_count": 46,
   "outputs": [],
   "source": [
    "nn . compile ( optimizer =tf. keras . optimizers . Adam ( learning_rate =0.1),\n",
    "loss =tf. keras . losses .MSE )"
   ],
   "metadata": {
    "collapsed": false,
    "pycharm": {
     "name": "#%%\n"
    }
   }
  },
  {
   "cell_type": "code",
   "execution_count": 47,
   "outputs": [
    {
     "name": "stdout",
     "output_type": "stream",
     "text": [
      "Epoch 1/100\n",
      "1/1 [==============================] - 1s 1s/step - loss: 6502937088.0000\n",
      "Epoch 2/100\n",
      "1/1 [==============================] - 0s 4ms/step - loss: 6498915840.0000\n",
      "Epoch 3/100\n",
      "1/1 [==============================] - 0s 4ms/step - loss: 6485701120.0000\n",
      "Epoch 4/100\n",
      "1/1 [==============================] - 0s 4ms/step - loss: 6453654528.0000\n",
      "Epoch 5/100\n",
      "1/1 [==============================] - 0s 8ms/step - loss: 6389867008.0000\n",
      "Epoch 6/100\n",
      "1/1 [==============================] - 0s 8ms/step - loss: 6277272064.0000\n",
      "Epoch 7/100\n",
      "1/1 [==============================] - 0s 8ms/step - loss: 6094476800.0000\n",
      "Epoch 8/100\n",
      "1/1 [==============================] - 0s 8ms/step - loss: 5816123392.0000\n",
      "Epoch 9/100\n",
      "1/1 [==============================] - 0s 4ms/step - loss: 5414265344.0000\n",
      "Epoch 10/100\n",
      "1/1 [==============================] - 0s 8ms/step - loss: 4861534208.0000\n",
      "Epoch 11/100\n",
      "1/1 [==============================] - 0s 8ms/step - loss: 4137384704.0000\n",
      "Epoch 12/100\n",
      "1/1 [==============================] - 0s 4ms/step - loss: 3239558144.0000\n",
      "Epoch 13/100\n",
      "1/1 [==============================] - 0s 4ms/step - loss: 2204489216.0000\n",
      "Epoch 14/100\n",
      "1/1 [==============================] - 0s 8ms/step - loss: 1142755584.0000\n",
      "Epoch 15/100\n",
      "1/1 [==============================] - 0s 4ms/step - loss: 301199040.0000\n",
      "Epoch 16/100\n",
      "1/1 [==============================] - 0s 4ms/step - loss: 128704056.0000\n",
      "Epoch 17/100\n",
      "1/1 [==============================] - 0s 8ms/step - loss: 934049216.0000\n",
      "Epoch 18/100\n",
      "1/1 [==============================] - 0s 8ms/step - loss: 1595284736.0000\n",
      "Epoch 19/100\n",
      "1/1 [==============================] - 0s 8ms/step - loss: 1392273664.0000\n",
      "Epoch 20/100\n",
      "1/1 [==============================] - 0s 4ms/step - loss: 798150464.0000\n",
      "Epoch 21/100\n",
      "1/1 [==============================] - 0s 8ms/step - loss: 296707296.0000\n",
      "Epoch 22/100\n",
      "1/1 [==============================] - 0s 8ms/step - loss: 83574320.0000\n",
      "Epoch 23/100\n",
      "1/1 [==============================] - 0s 8ms/step - loss: 124552032.0000\n",
      "Epoch 24/100\n",
      "1/1 [==============================] - 0s 8ms/step - loss: 293266784.0000\n",
      "Epoch 25/100\n",
      "1/1 [==============================] - 0s 8ms/step - loss: 475645376.0000\n",
      "Epoch 26/100\n",
      "1/1 [==============================] - 0s 4ms/step - loss: 604160576.0000\n",
      "Epoch 27/100\n",
      "1/1 [==============================] - 0s 4ms/step - loss: 651484416.0000\n",
      "Epoch 28/100\n",
      "1/1 [==============================] - 0s 8ms/step - loss: 616192576.0000\n",
      "Epoch 29/100\n",
      "1/1 [==============================] - 0s 8ms/step - loss: 513171232.0000\n",
      "Epoch 30/100\n",
      "1/1 [==============================] - 0s 8ms/step - loss: 369257888.0000\n",
      "Epoch 31/100\n",
      "1/1 [==============================] - 0s 8ms/step - loss: 220818448.0000\n",
      "Epoch 32/100\n",
      "1/1 [==============================] - 0s 8ms/step - loss: 108977912.0000\n",
      "Epoch 33/100\n",
      "1/1 [==============================] - 0s 8ms/step - loss: 68301672.0000\n",
      "Epoch 34/100\n",
      "1/1 [==============================] - 0s 8ms/step - loss: 108311448.0000\n",
      "Epoch 35/100\n",
      "1/1 [==============================] - 0s 8ms/step - loss: 198110576.0000\n",
      "Epoch 36/100\n",
      "1/1 [==============================] - 0s 8ms/step - loss: 275841440.0000\n",
      "Epoch 37/100\n",
      "1/1 [==============================] - 0s 4ms/step - loss: 289794656.0000\n",
      "Epoch 38/100\n",
      "1/1 [==============================] - 0s 4ms/step - loss: 235951712.0000\n",
      "Epoch 39/100\n",
      "1/1 [==============================] - 0s 4ms/step - loss: 153246032.0000\n",
      "Epoch 40/100\n",
      "1/1 [==============================] - 0s 4ms/step - loss: 87768816.0000\n",
      "Epoch 41/100\n",
      "1/1 [==============================] - 0s 4ms/step - loss: 63555180.0000\n",
      "Epoch 42/100\n",
      "1/1 [==============================] - 0s 4ms/step - loss: 77454608.0000\n",
      "Epoch 43/100\n",
      "1/1 [==============================] - 0s 4ms/step - loss: 110465128.0000\n",
      "Epoch 44/100\n",
      "1/1 [==============================] - 0s 4ms/step - loss: 141537856.0000\n",
      "Epoch 45/100\n",
      "1/1 [==============================] - 0s 8ms/step - loss: 156246784.0000\n",
      "Epoch 46/100\n",
      "1/1 [==============================] - 0s 8ms/step - loss: 149731520.0000\n",
      "Epoch 47/100\n",
      "1/1 [==============================] - 0s 8ms/step - loss: 125981288.0000\n",
      "Epoch 48/100\n",
      "1/1 [==============================] - 0s 8ms/step - loss: 95130768.0000\n",
      "Epoch 49/100\n",
      "1/1 [==============================] - 0s 8ms/step - loss: 69425656.0000\n",
      "Epoch 50/100\n",
      "1/1 [==============================] - 0s 8ms/step - loss: 58300844.0000\n",
      "Epoch 51/100\n",
      "1/1 [==============================] - 0s 8ms/step - loss: 63900392.0000\n",
      "Epoch 52/100\n",
      "1/1 [==============================] - 0s 8ms/step - loss: 79597560.0000\n",
      "Epoch 53/100\n",
      "1/1 [==============================] - 0s 8ms/step - loss: 93639720.0000\n",
      "Epoch 54/100\n",
      "1/1 [==============================] - 0s 8ms/step - loss: 96554664.0000\n",
      "Epoch 55/100\n",
      "1/1 [==============================] - 0s 8ms/step - loss: 86992264.0000\n",
      "Epoch 56/100\n",
      "1/1 [==============================] - 0s 8ms/step - loss: 71417432.0000\n",
      "Epoch 57/100\n",
      "1/1 [==============================] - 0s 4ms/step - loss: 58590832.0000\n",
      "Epoch 58/100\n",
      "1/1 [==============================] - 0s 4ms/step - loss: 53838172.0000\n",
      "Epoch 59/100\n",
      "1/1 [==============================] - 0s 8ms/step - loss: 56927836.0000\n",
      "Epoch 60/100\n",
      "1/1 [==============================] - 0s 8ms/step - loss: 63665788.0000\n",
      "Epoch 61/100\n",
      "1/1 [==============================] - 0s 8ms/step - loss: 69037792.0000\n",
      "Epoch 62/100\n",
      "1/1 [==============================] - 0s 8ms/step - loss: 69820200.0000\n",
      "Epoch 63/100\n",
      "1/1 [==============================] - 0s 4ms/step - loss: 65703884.0000\n",
      "Epoch 64/100\n",
      "1/1 [==============================] - 0s 4ms/step - loss: 58913268.0000\n",
      "Epoch 65/100\n",
      "1/1 [==============================] - 0s 4ms/step - loss: 52769180.0000\n",
      "Epoch 66/100\n",
      "1/1 [==============================] - 0s 8ms/step - loss: 49877588.0000\n",
      "Epoch 67/100\n",
      "1/1 [==============================] - 0s 8ms/step - loss: 50775344.0000\n",
      "Epoch 68/100\n",
      "1/1 [==============================] - 0s 8ms/step - loss: 53776876.0000\n",
      "Epoch 69/100\n",
      "1/1 [==============================] - 0s 8ms/step - loss: 56178524.0000\n",
      "Epoch 70/100\n",
      "1/1 [==============================] - 0s 8ms/step - loss: 56058448.0000\n",
      "Epoch 71/100\n",
      "1/1 [==============================] - 0s 8ms/step - loss: 53401368.0000\n",
      "Epoch 72/100\n",
      "1/1 [==============================] - 0s 8ms/step - loss: 49804188.0000\n",
      "Epoch 73/100\n",
      "1/1 [==============================] - 0s 8ms/step - loss: 47165872.0000\n",
      "Epoch 74/100\n",
      "1/1 [==============================] - 0s 4ms/step - loss: 46445440.0000\n",
      "Epoch 75/100\n",
      "1/1 [==============================] - 0s 8ms/step - loss: 47281652.0000\n",
      "Epoch 76/100\n",
      "1/1 [==============================] - 0s 8ms/step - loss: 48491992.0000\n",
      "Epoch 77/100\n",
      "1/1 [==============================] - 0s 8ms/step - loss: 48928092.0000\n",
      "Epoch 78/100\n",
      "1/1 [==============================] - 0s 4ms/step - loss: 48122752.0000\n",
      "Epoch 79/100\n",
      "1/1 [==============================] - 0s 8ms/step - loss: 46430936.0000\n",
      "Epoch 80/100\n",
      "1/1 [==============================] - 0s 8ms/step - loss: 44689292.0000\n",
      "Epoch 81/100\n",
      "1/1 [==============================] - 0s 8ms/step - loss: 43650360.0000\n",
      "Epoch 82/100\n",
      "1/1 [==============================] - 0s 4ms/step - loss: 43534568.0000\n",
      "Epoch 83/100\n",
      "1/1 [==============================] - 0s 4ms/step - loss: 43959068.0000\n",
      "Epoch 84/100\n",
      "1/1 [==============================] - 0s 4ms/step - loss: 44262756.0000\n",
      "Epoch 85/100\n",
      "1/1 [==============================] - 0s 4ms/step - loss: 43980028.0000\n",
      "Epoch 86/100\n",
      "1/1 [==============================] - 0s 4ms/step - loss: 43121336.0000\n",
      "Epoch 87/100\n",
      "1/1 [==============================] - 0s 5ms/step - loss: 42086716.0000\n",
      "Epoch 88/100\n",
      "1/1 [==============================] - 0s 8ms/step - loss: 41328492.0000\n",
      "Epoch 89/100\n",
      "1/1 [==============================] - 0s 8ms/step - loss: 41041456.0000\n",
      "Epoch 90/100\n",
      "1/1 [==============================] - 0s 4ms/step - loss: 41084724.0000\n",
      "Epoch 91/100\n",
      "1/1 [==============================] - 0s 8ms/step - loss: 41138220.0000\n",
      "Epoch 92/100\n",
      "1/1 [==============================] - 0s 8ms/step - loss: 40942500.0000\n",
      "Epoch 93/100\n",
      "1/1 [==============================] - 0s 8ms/step - loss: 40454188.0000\n",
      "Epoch 94/100\n",
      "1/1 [==============================] - 0s 8ms/step - loss: 39835984.0000\n",
      "Epoch 95/100\n",
      "1/1 [==============================] - 0s 4ms/step - loss: 39316048.0000\n",
      "Epoch 96/100\n",
      "1/1 [==============================] - 0s 4ms/step - loss: 39026032.0000\n",
      "Epoch 97/100\n",
      "1/1 [==============================] - 0s 8ms/step - loss: 38926580.0000\n",
      "Epoch 98/100\n",
      "1/1 [==============================] - 0s 8ms/step - loss: 38860228.0000\n",
      "Epoch 99/100\n",
      "1/1 [==============================] - 0s 4ms/step - loss: 38678908.0000\n",
      "Epoch 100/100\n",
      "1/1 [==============================] - 0s 8ms/step - loss: 38346312.0000\n"
     ]
    },
    {
     "data": {
      "text/plain": "<keras.callbacks.History at 0x1436e20e1c0>"
     },
     "execution_count": 47,
     "metadata": {},
     "output_type": "execute_result"
    }
   ],
   "source": [
    "nn . fit ( x=x, y=y , epochs =epochs , verbose =1)\n"
   ],
   "metadata": {
    "collapsed": false,
    "pycharm": {
     "name": "#%%\n"
    }
   }
  },
  {
   "cell_type": "code",
   "execution_count": 48,
   "outputs": [
    {
     "name": "stdout",
     "output_type": "stream",
     "text": [
      "WARNING:tensorflow:5 out of the last 6 calls to <function Model.make_predict_function.<locals>.predict_function at 0x000001436CFE4AF0> triggered tf.function retracing. Tracing is expensive and the excessive number of tracings could be due to (1) creating @tf.function repeatedly in a loop, (2) passing tensors with different shapes, (3) passing Python objects instead of tensors. For (1), please define your @tf.function outside of the loop. For (2), @tf.function has reduce_retracing=True option that can avoid unnecessary retracing. For (3), please refer to https://www.tensorflow.org/guide/function#controlling_retracing and https://www.tensorflow.org/api_docs/python/tf/function for  more details.\n",
      "1/1 [==============================] - 0s 68ms/step\n"
     ]
    },
    {
     "data": {
      "text/plain": "array([[ 31803.178],\n       [ 33873.523],\n       [ 35943.87 ],\n       [ 41119.74 ],\n       [ 43190.086],\n       [ 50436.3  ],\n       [ 51471.47 ],\n       [ 53541.82 ],\n       [ 53541.82 ],\n       [ 58717.684],\n       [ 60788.03 ],\n       [ 61823.21 ],\n       [ 61823.21 ],\n       [ 62858.375],\n       [ 66999.07 ],\n       [ 71139.77 ],\n       [ 73210.12 ],\n       [ 75280.46 ],\n       [ 81491.51 ],\n       [ 82526.68 ],\n       [ 90808.06 ],\n       [ 93913.58 ],\n       [102194.97 ],\n       [105300.49 ],\n       [110476.36 ],\n       [113581.88 ],\n       [118757.74 ],\n       [119792.914],\n       [127039.125],\n       [129109.49 ]], dtype=float32)"
     },
     "execution_count": 48,
     "metadata": {},
     "output_type": "execute_result"
    }
   ],
   "source": [
    "ynn=nn.predict(x)\n",
    "ynn"
   ],
   "metadata": {
    "collapsed": false,
    "pycharm": {
     "name": "#%%\n"
    }
   }
  },
  {
   "cell_type": "code",
   "execution_count": 49,
   "outputs": [
    {
     "data": {
      "text/plain": "<Figure size 720x576 with 1 Axes>",
      "image/png": "[encoded data removed]"
     },
     "metadata": {
      "needs_background": "light"
     },
     "output_type": "display_data"
    }
   ],
   "source": [
    "plt.figure(figsize=(10, 8))\n",
    "plt.scatter(x, y, label='real values')\n",
    "plt.plot(x, yls, label='least squares')\n",
    "plt.plot(x, ynn, label='neural network')\n",
    "plt.legend()\n",
    "plt.show()"
   ],
   "metadata": {
    "collapsed": false,
    "pycharm": {
     "name": "#%%\n"
    }
   }
  },
  {
   "cell_type": "code",
   "execution_count": null,
   "outputs": [],
   "source": [],
   "metadata": {
    "collapsed": false,
    "pycharm": {
     "name": "#%%\n"
    }
   }
  }
 ],
 "metadata": {
  "kernelspec": {
   "display_name": "Python 3",
   "language": "python",
   "name": "python3"
  },
  "language_info": {
   "codemirror_mode": {
    "name": "ipython",
    "version": 2
   },
   "file_extension": ".py",
   "mimetype": "text/x-python",
   "name": "python",
   "nbconvert_exporter": "python",
   "pygments_lexer": "ipython2",
   "version": "2.7.6"
  }
 },
 "nbformat": 4,
 "nbformat_minor": 0
}